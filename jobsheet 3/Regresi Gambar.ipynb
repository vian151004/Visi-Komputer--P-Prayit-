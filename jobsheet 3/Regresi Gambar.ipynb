{
 "cells": [
  {
   "cell_type": "code",
   "execution_count": 10,
   "id": "d0927ee3",
   "metadata": {},
   "outputs": [
    {
     "name": "stdout",
     "output_type": "stream",
     "text": [
      "✅ kaggle.json sudah ada\n"
     ]
    },
    {
     "data": {
      "text/plain": [
       "True"
      ]
     },
     "execution_count": 10,
     "metadata": {},
     "output_type": "execute_result"
    }
   ],
   "source": [
    "import os\n",
    "import json\n",
    "import shutil\n",
    "from pathlib import Path\n",
    "\n",
    "def setup_kaggle():\n",
    "    \"\"\"Setup Kaggle API credentials\"\"\"\n",
    "    \n",
    "    # Direktori kaggle\n",
    "    kaggle_dir = Path.home() / '.kaggle'\n",
    "    kaggle_dir.mkdir(exist_ok=True)\n",
    "    \n",
    "    kaggle_json_path = kaggle_dir / 'kaggle.json'\n",
    "    \n",
    "    # Cek jika kaggle.json sudah ada\n",
    "    if kaggle_json_path.exists():\n",
    "        print(\"✅ kaggle.json sudah ada\")\n",
    "        return True\n",
    "    \n",
    "    # Cari kaggle.json di berbagai lokasi\n",
    "    possible_locations = [\n",
    "        './kaggle.json',\n",
    "        '../kaggle.json',\n",
    "        Path.home() / 'Downloads' / 'kaggle.json',\n",
    "        Path.home() / 'Desktop' / 'kaggle.json'\n",
    "    ]\n",
    "    \n",
    "    for location in possible_locations:\n",
    "        if Path(location).exists():\n",
    "            shutil.copy(location, kaggle_json_path)\n",
    "            print(f\"✅ kaggle.json ditemukan di {location} dan disalin\")\n",
    "            break\n",
    "    else:\n",
    "        print(\"❌ kaggle.json tidak ditemukan. Silakan download dari Kaggle:\")\n",
    "        print(\"  1. Login ke Kaggle\")\n",
    "        print(\"  2. Account → Create New API Token\")\n",
    "        print(\"  3. Simpan kaggle.json di folder ini\")\n",
    "        return False\n",
    "    \n",
    "    # Set permissions (untuk Linux/Mac)\n",
    "    if os.name != 'nt':  # bukan Windows\n",
    "        os.chmod(kaggle_json_path, 0o600)\n",
    "    \n",
    "    print(\"✅ Kaggle API setup completed!\")\n",
    "    return True\n",
    "\n",
    "# Jalankan setup\n",
    "setup_kaggle()"
   ]
  }
 ],
 "metadata": {
  "kernelspec": {
   "display_name": "base",
   "language": "python",
   "name": "python3"
  },
  "language_info": {
   "codemirror_mode": {
    "name": "ipython",
    "version": 3
   },
   "file_extension": ".py",
   "mimetype": "text/x-python",
   "name": "python",
   "nbconvert_exporter": "python",
   "pygments_lexer": "ipython3",
   "version": "3.12.7"
  }
 },
 "nbformat": 4,
 "nbformat_minor": 5
}
